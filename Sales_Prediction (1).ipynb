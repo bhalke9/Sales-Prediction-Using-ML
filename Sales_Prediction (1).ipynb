{
 "cells": [
  {
   "cell_type": "markdown",
   "metadata": {
    "id": "AWP1ymwJm6o9"
   },
   "source": [
    "SALES PRECTION MODEL USING LINEAR REGRESSION\n"
   ]
  },
  {
   "cell_type": "code",
   "execution_count": 1,
   "metadata": {
    "id": "AJS_KrYGnC1m"
   },
   "outputs": [],
   "source": [
    "#importing required libraries\n",
    "import pandas as pd\n",
    "from sklearn.linear_model import LinearRegression\n",
    "\n",
    "#Data Visualization\n",
    "import matplotlib.pyplot as plt\n",
    "\n"
   ]
  },
  {
   "cell_type": "markdown",
   "metadata": {
    "id": "2rToZG-9oKwE"
   },
   "source": [
    "Reading Dataset\n"
   ]
  },
  {
   "cell_type": "code",
   "execution_count": 2,
   "metadata": {
    "id": "wBypLGjFoRFA"
   },
   "outputs": [],
   "source": [
    "data = pd.DataFrame(pd.read_csv('Advertising.csv'))"
   ]
  },
  {
   "cell_type": "markdown",
   "metadata": {
    "id": "-lLL_6fvp4IV"
   },
   "source": [
    "Data Insecption"
   ]
  },
  {
   "cell_type": "code",
   "execution_count": 3,
   "metadata": {
    "colab": {
     "base_uri": "https://localhost:8080/",
     "height": 206
    },
    "id": "DTwecgIQqDwe",
    "outputId": "5225bb5e-8f72-4801-ae26-53d34b2db03c"
   },
   "outputs": [
    {
     "data": {
      "text/html": [
       "<div>\n",
       "<style scoped>\n",
       "    .dataframe tbody tr th:only-of-type {\n",
       "        vertical-align: middle;\n",
       "    }\n",
       "\n",
       "    .dataframe tbody tr th {\n",
       "        vertical-align: top;\n",
       "    }\n",
       "\n",
       "    .dataframe thead th {\n",
       "        text-align: right;\n",
       "    }\n",
       "</style>\n",
       "<table border=\"1\" class=\"dataframe\">\n",
       "  <thead>\n",
       "    <tr style=\"text-align: right;\">\n",
       "      <th></th>\n",
       "      <th>Unnamed: 0</th>\n",
       "      <th>TV</th>\n",
       "      <th>Radio</th>\n",
       "      <th>Newspaper</th>\n",
       "      <th>Sales</th>\n",
       "    </tr>\n",
       "  </thead>\n",
       "  <tbody>\n",
       "    <tr>\n",
       "      <th>0</th>\n",
       "      <td>1</td>\n",
       "      <td>230.1</td>\n",
       "      <td>37.8</td>\n",
       "      <td>69.2</td>\n",
       "      <td>22.1</td>\n",
       "    </tr>\n",
       "    <tr>\n",
       "      <th>1</th>\n",
       "      <td>2</td>\n",
       "      <td>44.5</td>\n",
       "      <td>39.3</td>\n",
       "      <td>45.1</td>\n",
       "      <td>10.4</td>\n",
       "    </tr>\n",
       "    <tr>\n",
       "      <th>2</th>\n",
       "      <td>3</td>\n",
       "      <td>17.2</td>\n",
       "      <td>45.9</td>\n",
       "      <td>69.3</td>\n",
       "      <td>9.3</td>\n",
       "    </tr>\n",
       "    <tr>\n",
       "      <th>3</th>\n",
       "      <td>4</td>\n",
       "      <td>151.5</td>\n",
       "      <td>41.3</td>\n",
       "      <td>58.5</td>\n",
       "      <td>18.5</td>\n",
       "    </tr>\n",
       "    <tr>\n",
       "      <th>4</th>\n",
       "      <td>5</td>\n",
       "      <td>180.8</td>\n",
       "      <td>10.8</td>\n",
       "      <td>58.4</td>\n",
       "      <td>12.9</td>\n",
       "    </tr>\n",
       "  </tbody>\n",
       "</table>\n",
       "</div>"
      ],
      "text/plain": [
       "   Unnamed: 0     TV  Radio  Newspaper  Sales\n",
       "0           1  230.1   37.8       69.2   22.1\n",
       "1           2   44.5   39.3       45.1   10.4\n",
       "2           3   17.2   45.9       69.3    9.3\n",
       "3           4  151.5   41.3       58.5   18.5\n",
       "4           5  180.8   10.8       58.4   12.9"
      ]
     },
     "execution_count": 3,
     "metadata": {},
     "output_type": "execute_result"
    }
   ],
   "source": [
    "data.head()"
   ]
  },
  {
   "cell_type": "code",
   "execution_count": 4,
   "metadata": {
    "id": "JSKLxRazI3Z6"
   },
   "outputs": [],
   "source": [
    "#dropping or deletting umwanted row from datatset\n",
    "del data['Unnamed: 0']"
   ]
  },
  {
   "cell_type": "code",
   "execution_count": 5,
   "metadata": {
    "colab": {
     "base_uri": "https://localhost:8080/"
    },
    "id": "ehzMS9zYqJU2",
    "outputId": "bf0f5da4-ec3e-42db-a201-b38ab272f012"
   },
   "outputs": [
    {
     "data": {
      "text/plain": [
       "(200, 4)"
      ]
     },
     "execution_count": 5,
     "metadata": {},
     "output_type": "execute_result"
    }
   ],
   "source": [
    "data.shape\n"
   ]
  },
  {
   "cell_type": "code",
   "execution_count": 6,
   "metadata": {
    "colab": {
     "base_uri": "https://localhost:8080/"
    },
    "id": "VIB7wSX9qM_a",
    "outputId": "798eed8b-c102-401b-e775-da698450f052"
   },
   "outputs": [
    {
     "name": "stdout",
     "output_type": "stream",
     "text": [
      "<class 'pandas.core.frame.DataFrame'>\n",
      "RangeIndex: 200 entries, 0 to 199\n",
      "Data columns (total 4 columns):\n",
      " #   Column     Non-Null Count  Dtype  \n",
      "---  ------     --------------  -----  \n",
      " 0   TV         200 non-null    float64\n",
      " 1   Radio      200 non-null    float64\n",
      " 2   Newspaper  200 non-null    float64\n",
      " 3   Sales      200 non-null    float64\n",
      "dtypes: float64(4)\n",
      "memory usage: 6.4 KB\n"
     ]
    }
   ],
   "source": [
    "data.info()"
   ]
  },
  {
   "cell_type": "code",
   "execution_count": 7,
   "metadata": {
    "colab": {
     "base_uri": "https://localhost:8080/",
     "height": 300
    },
    "id": "n_cWQjDYqtfv",
    "outputId": "dc7a6880-698c-4ebc-db3a-4ec74be12ab5"
   },
   "outputs": [
    {
     "data": {
      "text/html": [
       "<div>\n",
       "<style scoped>\n",
       "    .dataframe tbody tr th:only-of-type {\n",
       "        vertical-align: middle;\n",
       "    }\n",
       "\n",
       "    .dataframe tbody tr th {\n",
       "        vertical-align: top;\n",
       "    }\n",
       "\n",
       "    .dataframe thead th {\n",
       "        text-align: right;\n",
       "    }\n",
       "</style>\n",
       "<table border=\"1\" class=\"dataframe\">\n",
       "  <thead>\n",
       "    <tr style=\"text-align: right;\">\n",
       "      <th></th>\n",
       "      <th>TV</th>\n",
       "      <th>Radio</th>\n",
       "      <th>Newspaper</th>\n",
       "      <th>Sales</th>\n",
       "    </tr>\n",
       "  </thead>\n",
       "  <tbody>\n",
       "    <tr>\n",
       "      <th>count</th>\n",
       "      <td>200.000000</td>\n",
       "      <td>200.000000</td>\n",
       "      <td>200.000000</td>\n",
       "      <td>200.000000</td>\n",
       "    </tr>\n",
       "    <tr>\n",
       "      <th>mean</th>\n",
       "      <td>147.042500</td>\n",
       "      <td>23.264000</td>\n",
       "      <td>30.554000</td>\n",
       "      <td>14.022500</td>\n",
       "    </tr>\n",
       "    <tr>\n",
       "      <th>std</th>\n",
       "      <td>85.854236</td>\n",
       "      <td>14.846809</td>\n",
       "      <td>21.778621</td>\n",
       "      <td>5.217457</td>\n",
       "    </tr>\n",
       "    <tr>\n",
       "      <th>min</th>\n",
       "      <td>0.700000</td>\n",
       "      <td>0.000000</td>\n",
       "      <td>0.300000</td>\n",
       "      <td>1.600000</td>\n",
       "    </tr>\n",
       "    <tr>\n",
       "      <th>25%</th>\n",
       "      <td>74.375000</td>\n",
       "      <td>9.975000</td>\n",
       "      <td>12.750000</td>\n",
       "      <td>10.375000</td>\n",
       "    </tr>\n",
       "    <tr>\n",
       "      <th>50%</th>\n",
       "      <td>149.750000</td>\n",
       "      <td>22.900000</td>\n",
       "      <td>25.750000</td>\n",
       "      <td>12.900000</td>\n",
       "    </tr>\n",
       "    <tr>\n",
       "      <th>75%</th>\n",
       "      <td>218.825000</td>\n",
       "      <td>36.525000</td>\n",
       "      <td>45.100000</td>\n",
       "      <td>17.400000</td>\n",
       "    </tr>\n",
       "    <tr>\n",
       "      <th>max</th>\n",
       "      <td>296.400000</td>\n",
       "      <td>49.600000</td>\n",
       "      <td>114.000000</td>\n",
       "      <td>27.000000</td>\n",
       "    </tr>\n",
       "  </tbody>\n",
       "</table>\n",
       "</div>"
      ],
      "text/plain": [
       "               TV       Radio   Newspaper       Sales\n",
       "count  200.000000  200.000000  200.000000  200.000000\n",
       "mean   147.042500   23.264000   30.554000   14.022500\n",
       "std     85.854236   14.846809   21.778621    5.217457\n",
       "min      0.700000    0.000000    0.300000    1.600000\n",
       "25%     74.375000    9.975000   12.750000   10.375000\n",
       "50%    149.750000   22.900000   25.750000   12.900000\n",
       "75%    218.825000   36.525000   45.100000   17.400000\n",
       "max    296.400000   49.600000  114.000000   27.000000"
      ]
     },
     "execution_count": 7,
     "metadata": {},
     "output_type": "execute_result"
    }
   ],
   "source": [
    "data.describe()"
   ]
  },
  {
   "cell_type": "markdown",
   "metadata": {
    "id": "ixoMsljZrKGn"
   },
   "source": [
    "Data Cleaning"
   ]
  },
  {
   "cell_type": "code",
   "execution_count": 8,
   "metadata": {
    "colab": {
     "base_uri": "https://localhost:8080/",
     "height": 424
    },
    "id": "FKyAfSt2rQLD",
    "outputId": "d9b9bbf8-2a71-4d81-8477-ffb20684b1c7"
   },
   "outputs": [
    {
     "data": {
      "text/html": [
       "<div>\n",
       "<style scoped>\n",
       "    .dataframe tbody tr th:only-of-type {\n",
       "        vertical-align: middle;\n",
       "    }\n",
       "\n",
       "    .dataframe tbody tr th {\n",
       "        vertical-align: top;\n",
       "    }\n",
       "\n",
       "    .dataframe thead th {\n",
       "        text-align: right;\n",
       "    }\n",
       "</style>\n",
       "<table border=\"1\" class=\"dataframe\">\n",
       "  <thead>\n",
       "    <tr style=\"text-align: right;\">\n",
       "      <th></th>\n",
       "      <th>TV</th>\n",
       "      <th>Radio</th>\n",
       "      <th>Newspaper</th>\n",
       "      <th>Sales</th>\n",
       "    </tr>\n",
       "  </thead>\n",
       "  <tbody>\n",
       "    <tr>\n",
       "      <th>0</th>\n",
       "      <td>False</td>\n",
       "      <td>False</td>\n",
       "      <td>False</td>\n",
       "      <td>False</td>\n",
       "    </tr>\n",
       "    <tr>\n",
       "      <th>1</th>\n",
       "      <td>False</td>\n",
       "      <td>False</td>\n",
       "      <td>False</td>\n",
       "      <td>False</td>\n",
       "    </tr>\n",
       "    <tr>\n",
       "      <th>2</th>\n",
       "      <td>False</td>\n",
       "      <td>False</td>\n",
       "      <td>False</td>\n",
       "      <td>False</td>\n",
       "    </tr>\n",
       "    <tr>\n",
       "      <th>3</th>\n",
       "      <td>False</td>\n",
       "      <td>False</td>\n",
       "      <td>False</td>\n",
       "      <td>False</td>\n",
       "    </tr>\n",
       "    <tr>\n",
       "      <th>4</th>\n",
       "      <td>False</td>\n",
       "      <td>False</td>\n",
       "      <td>False</td>\n",
       "      <td>False</td>\n",
       "    </tr>\n",
       "    <tr>\n",
       "      <th>...</th>\n",
       "      <td>...</td>\n",
       "      <td>...</td>\n",
       "      <td>...</td>\n",
       "      <td>...</td>\n",
       "    </tr>\n",
       "    <tr>\n",
       "      <th>195</th>\n",
       "      <td>False</td>\n",
       "      <td>False</td>\n",
       "      <td>False</td>\n",
       "      <td>False</td>\n",
       "    </tr>\n",
       "    <tr>\n",
       "      <th>196</th>\n",
       "      <td>False</td>\n",
       "      <td>False</td>\n",
       "      <td>False</td>\n",
       "      <td>False</td>\n",
       "    </tr>\n",
       "    <tr>\n",
       "      <th>197</th>\n",
       "      <td>False</td>\n",
       "      <td>False</td>\n",
       "      <td>False</td>\n",
       "      <td>False</td>\n",
       "    </tr>\n",
       "    <tr>\n",
       "      <th>198</th>\n",
       "      <td>False</td>\n",
       "      <td>False</td>\n",
       "      <td>False</td>\n",
       "      <td>False</td>\n",
       "    </tr>\n",
       "    <tr>\n",
       "      <th>199</th>\n",
       "      <td>False</td>\n",
       "      <td>False</td>\n",
       "      <td>False</td>\n",
       "      <td>False</td>\n",
       "    </tr>\n",
       "  </tbody>\n",
       "</table>\n",
       "<p>200 rows × 4 columns</p>\n",
       "</div>"
      ],
      "text/plain": [
       "        TV  Radio  Newspaper  Sales\n",
       "0    False  False      False  False\n",
       "1    False  False      False  False\n",
       "2    False  False      False  False\n",
       "3    False  False      False  False\n",
       "4    False  False      False  False\n",
       "..     ...    ...        ...    ...\n",
       "195  False  False      False  False\n",
       "196  False  False      False  False\n",
       "197  False  False      False  False\n",
       "198  False  False      False  False\n",
       "199  False  False      False  False\n",
       "\n",
       "[200 rows x 4 columns]"
      ]
     },
     "execution_count": 8,
     "metadata": {},
     "output_type": "execute_result"
    }
   ],
   "source": [
    "#Checking null values in the dataset\n",
    "data.isnull()"
   ]
  },
  {
   "cell_type": "code",
   "execution_count": 9,
   "metadata": {
    "colab": {
     "base_uri": "https://localhost:8080/"
    },
    "id": "xK2gRkDSrvVr",
    "outputId": "daf869bb-9090-444c-874d-55c0d380a53d"
   },
   "outputs": [
    {
     "data": {
      "text/plain": [
       "TV           0\n",
       "Radio        0\n",
       "Newspaper    0\n",
       "Sales        0\n",
       "dtype: int64"
      ]
     },
     "execution_count": 9,
     "metadata": {},
     "output_type": "execute_result"
    }
   ],
   "source": [
    "#Checking no of null values in columns\n",
    "data.isnull().sum()"
   ]
  },
  {
   "cell_type": "markdown",
   "metadata": {
    "id": "Dx3A3KfA2yoa"
   },
   "source": [
    "Exploratory Data Analysis\n",
    "\n",
    "\n",
    "Creating boxplot for every column"
   ]
  },
  {
   "cell_type": "code",
   "execution_count": 10,
   "metadata": {
    "colab": {
     "base_uri": "https://localhost:8080/",
     "height": 265
    },
    "id": "FWwzQSZy3BlM",
    "outputId": "415b2e28-479a-4a1b-aee4-b2b03e8cedcf"
   },
   "outputs": [
    {
     "data": {
      "image/png": "[encoded data removed]",
      "text/plain": [
       "<Figure size 640x480 with 1 Axes>"
      ]
     },
     "metadata": {},
     "output_type": "display_data"
    }
   ],
   "source": [
    "#boxplot for newspaper\n",
    "plt1 = plt.boxplot(data['Newspaper'])"
   ]
  },
  {
   "cell_type": "code",
   "execution_count": 11,
   "metadata": {
    "colab": {
     "base_uri": "https://localhost:8080/",
     "height": 265
    },
    "id": "ItssD_Am4dN3",
    "outputId": "e62bcd76-b3c9-4438-c12a-1c45be3d767f"
   },
   "outputs": [
    {
     "data": {
      "image/png": "[encoded data removed]",
      "text/plain": [
       "<Figure size 640x480 with 1 Axes>"
      ]
     },
     "metadata": {},
     "output_type": "display_data"
    }
   ],
   "source": [
    "#boxplot of Radio column\n",
    "plt2 = plt.boxplot(data['Radio'])"
   ]
  },
  {
   "cell_type": "code",
   "execution_count": 12,
   "metadata": {
    "colab": {
     "base_uri": "https://localhost:8080/",
     "height": 265
    },
    "id": "e_Pg_mN24jx7",
    "outputId": "c48ff3cd-1d03-4fa3-cb04-ba7680d1eb42"
   },
   "outputs": [
    {
     "data": {
      "image/png": "[encoded data removed]",
      "text/plain": [
       "<Figure size 640x480 with 1 Axes>"
      ]
     },
     "metadata": {},
     "output_type": "display_data"
    }
   ],
   "source": [
    "#boxplot of Tv column\n",
    "plt3 = plt.boxplot(data['TV'])"
   ]
  },
  {
   "cell_type": "code",
   "execution_count": 13,
   "metadata": {
    "colab": {
     "base_uri": "https://localhost:8080/",
     "height": 265
    },
    "id": "InMH4cam5GI5",
    "outputId": "7febfa59-0da3-4619-be61-4d7757fbb18e"
   },
   "outputs": [
    {
     "data": {
      "image/png": "[encoded data removed]",
      "text/plain": [
       "<Figure size 640x480 with 1 Axes>"
      ]
     },
     "metadata": {},
     "output_type": "display_data"
    }
   ],
   "source": [
    "# boxplot of target variable, Sales column\n",
    "plt4 = plt.boxplot(data['Sales'])"
   ]
  },
  {
   "cell_type": "code",
   "execution_count": 14,
   "metadata": {
    "colab": {
     "base_uri": "https://localhost:8080/",
     "height": 303
    },
    "id": "okxUfXkL5dmA",
    "outputId": "d0031bc2-c04e-43c5-ba36-71157968be3f"
   },
   "outputs": [
    {
     "data": {
      "image/png": "[encoded data removed]",
      "text/plain": [
       "<Figure size 1200x400 with 3 Axes>"
      ]
     },
     "metadata": {},
     "output_type": "display_data"
    }
   ],
   "source": [
    "#How other variables are related with sales using scatter plot.\n",
    "import seaborn as sn\n",
    "fig1 = sn.pairplot(data , x_vars=['TV', 'Newspaper', 'Radio'] , y_vars = 'Sales' , height = 4 , aspect=1 ,\n",
    "                   kind='scatter')\n"
   ]
  },
  {
   "cell_type": "code",
   "execution_count": 15,
   "metadata": {
    "colab": {
     "base_uri": "https://localhost:8080/",
     "height": 269
    },
    "id": "RtBHx3K4GQaq",
    "outputId": "5ec40374-1e8b-4020-e64c-fc157eabf9ad"
   },
   "outputs": [
    {
     "data": {
      "image/png": "[encoded data removed]",
      "text/plain": [
       "<Figure size 640x480 with 2 Axes>"
      ]
     },
     "metadata": {},
     "output_type": "display_data"
    }
   ],
   "source": [
    "#Correlation between different Variables\n",
    "fig2 = sn.heatmap(data.corr(), annot = True , cmap = 'winter')"
   ]
  },
  {
   "cell_type": "markdown",
   "metadata": {
    "id": "3CA4e30uJ-WY"
   },
   "source": [
    "MODEL BUILDING"
   ]
  },
  {
   "cell_type": "code",
   "execution_count": 16,
   "metadata": {
    "id": "ztwbdObgKBxs"
   },
   "outputs": [],
   "source": [
    "#Building linear regression model \n",
    "#let us take tv , radio as input features and sales as target value\n",
    "input_features = ['TV','Radio']\n",
    "x = data[input_features]\n",
    "y= data['Sales']\n",
    "\n",
    "# Splitting data into train and test datasets\n",
    "from sklearn.model_selection import train_test_split\n",
    "x_train , x_test , y_train , y_test = train_test_split(x,y,train_size=0.7,test_size=0.3)\n",
    "\n"
   ]
  },
  {
   "cell_type": "code",
   "execution_count": 17,
   "metadata": {
    "colab": {
     "base_uri": "https://localhost:8080/",
     "height": 206
    },
    "id": "z-0nzxUwOOXW",
    "outputId": "12adcabe-7bc5-4c85-e55e-0fc649fd729a"
   },
   "outputs": [
    {
     "data": {
      "text/html": [
       "<div>\n",
       "<style scoped>\n",
       "    .dataframe tbody tr th:only-of-type {\n",
       "        vertical-align: middle;\n",
       "    }\n",
       "\n",
       "    .dataframe tbody tr th {\n",
       "        vertical-align: top;\n",
       "    }\n",
       "\n",
       "    .dataframe thead th {\n",
       "        text-align: right;\n",
       "    }\n",
       "</style>\n",
       "<table border=\"1\" class=\"dataframe\">\n",
       "  <thead>\n",
       "    <tr style=\"text-align: right;\">\n",
       "      <th></th>\n",
       "      <th>TV</th>\n",
       "      <th>Radio</th>\n",
       "    </tr>\n",
       "  </thead>\n",
       "  <tbody>\n",
       "    <tr>\n",
       "      <th>186</th>\n",
       "      <td>139.5</td>\n",
       "      <td>2.1</td>\n",
       "    </tr>\n",
       "    <tr>\n",
       "      <th>99</th>\n",
       "      <td>135.2</td>\n",
       "      <td>41.7</td>\n",
       "    </tr>\n",
       "    <tr>\n",
       "      <th>139</th>\n",
       "      <td>184.9</td>\n",
       "      <td>43.9</td>\n",
       "    </tr>\n",
       "    <tr>\n",
       "      <th>60</th>\n",
       "      <td>53.5</td>\n",
       "      <td>2.0</td>\n",
       "    </tr>\n",
       "    <tr>\n",
       "      <th>117</th>\n",
       "      <td>76.4</td>\n",
       "      <td>0.8</td>\n",
       "    </tr>\n",
       "  </tbody>\n",
       "</table>\n",
       "</div>"
      ],
      "text/plain": [
       "        TV  Radio\n",
       "186  139.5    2.1\n",
       "99   135.2   41.7\n",
       "139  184.9   43.9\n",
       "60    53.5    2.0\n",
       "117   76.4    0.8"
      ]
     },
     "execution_count": 17,
     "metadata": {},
     "output_type": "execute_result"
    }
   ],
   "source": [
    "x_train.head()"
   ]
  },
  {
   "cell_type": "code",
   "execution_count": 18,
   "metadata": {
    "colab": {
     "base_uri": "https://localhost:8080/",
     "height": 206
    },
    "id": "2m0bIVUTOh9L",
    "outputId": "31ab436e-f74c-4e05-cbbf-d91d1d087a8c"
   },
   "outputs": [
    {
     "data": {
      "text/html": [
       "<div>\n",
       "<style scoped>\n",
       "    .dataframe tbody tr th:only-of-type {\n",
       "        vertical-align: middle;\n",
       "    }\n",
       "\n",
       "    .dataframe tbody tr th {\n",
       "        vertical-align: top;\n",
       "    }\n",
       "\n",
       "    .dataframe thead th {\n",
       "        text-align: right;\n",
       "    }\n",
       "</style>\n",
       "<table border=\"1\" class=\"dataframe\">\n",
       "  <thead>\n",
       "    <tr style=\"text-align: right;\">\n",
       "      <th></th>\n",
       "      <th>TV</th>\n",
       "      <th>Radio</th>\n",
       "    </tr>\n",
       "  </thead>\n",
       "  <tbody>\n",
       "    <tr>\n",
       "      <th>21</th>\n",
       "      <td>237.4</td>\n",
       "      <td>5.1</td>\n",
       "    </tr>\n",
       "    <tr>\n",
       "      <th>95</th>\n",
       "      <td>163.3</td>\n",
       "      <td>31.6</td>\n",
       "    </tr>\n",
       "    <tr>\n",
       "      <th>102</th>\n",
       "      <td>280.2</td>\n",
       "      <td>10.1</td>\n",
       "    </tr>\n",
       "    <tr>\n",
       "      <th>12</th>\n",
       "      <td>23.8</td>\n",
       "      <td>35.1</td>\n",
       "    </tr>\n",
       "    <tr>\n",
       "      <th>33</th>\n",
       "      <td>265.6</td>\n",
       "      <td>20.0</td>\n",
       "    </tr>\n",
       "  </tbody>\n",
       "</table>\n",
       "</div>"
      ],
      "text/plain": [
       "        TV  Radio\n",
       "21   237.4    5.1\n",
       "95   163.3   31.6\n",
       "102  280.2   10.1\n",
       "12    23.8   35.1\n",
       "33   265.6   20.0"
      ]
     },
     "execution_count": 18,
     "metadata": {},
     "output_type": "execute_result"
    }
   ],
   "source": [
    "x_test.head()"
   ]
  },
  {
   "cell_type": "code",
   "execution_count": 19,
   "metadata": {
    "id": "r6Jyw0NC9MuY"
   },
   "outputs": [],
   "source": [
    "#Linear Model\n",
    "model = LinearRegression()\n",
    "model = model.fit(x_train,y_train)\n"
   ]
  },
  {
   "cell_type": "code",
   "execution_count": 20,
   "metadata": {
    "colab": {
     "base_uri": "https://localhost:8080/"
    },
    "id": "bu41vYhXekvc",
    "outputId": "cfc93060-a5be-4ed7-c887-5f6fb38a4393"
   },
   "outputs": [
    {
     "name": "stdout",
     "output_type": "stream",
     "text": [
      "[14.71628143 16.41095009 17.6133049  10.74713955 18.8402238  12.60438298\n",
      " 14.6343471   9.54372828 17.29336935 13.87657857  8.5402706  10.51436742\n",
      "  7.12783225 15.15889524 11.57323173  9.9287229  13.27859952 15.24862337\n",
      " 16.41513778 11.41296651  5.36753181 21.77740339 18.08292126 19.31262812\n",
      " 13.88169647 12.1814457  10.54149002 16.41292611 12.4883566  18.36130361\n",
      " 10.0627975   3.63830068  4.52095471  9.17758407 14.25179716 11.67948741\n",
      " 19.69424875 12.50895801 12.07542834 18.16752794 12.38419345 20.74892093\n",
      " 17.37635304  6.60131608  8.23708761 10.57162559 20.38824501 11.09279442\n",
      " 12.05773138 16.55549526 12.01501853 17.89483711 21.18698957 13.59271286\n",
      " 23.29842114 20.51196287 15.36814999  7.57835369 20.62636804 11.83777041]\n"
     ]
    }
   ],
   "source": [
    "y_pred = model.predict(x_test)\n",
    "print(y_pred)"
   ]
  },
  {
   "cell_type": "code",
   "execution_count": 21,
   "metadata": {
    "colab": {
     "base_uri": "https://localhost:8080/"
    },
    "id": "3BkWXccE4lcC",
    "outputId": "e6e4b77e-98d1-4b1e-f285-7927ae6304de"
   },
   "outputs": [
    {
     "name": "stdout",
     "output_type": "stream",
     "text": [
      "        TV  Radio  y_test     y_pred\n",
      "21   237.4    5.1    12.5  14.716281\n",
      "95   163.3   31.6    16.9  16.410950\n",
      "102  280.2   10.1    14.8  17.613305\n",
      "12    23.8   35.1     9.2  10.747140\n",
      "33   265.6   20.0    17.4  18.840224\n",
      "96   197.6    3.5    11.7  12.604383\n",
      "81   239.8    4.1    12.3  14.634347\n",
      "140   73.4   17.0    10.9   9.543728\n",
      "11   214.7   24.0    17.4  17.293369\n",
      "77   120.5   28.5    14.2  13.876579\n",
      "132    8.4   27.2     5.7   8.540271\n",
      "94   107.4   14.0    11.5  10.514367\n",
      "107   90.4    0.3     8.7   7.127832\n",
      "123  123.1   34.6    15.2  15.158895\n",
      "136   25.6   39.0     9.5  11.573232\n",
      "73   129.4    5.7    11.0   9.928723\n",
      "63   102.7   29.6    14.0  13.278600\n",
      "85   193.2   18.4    15.2  15.248623\n",
      "40   202.5   22.3    16.6  16.415138\n",
      "31   112.9   17.4    11.9  11.412967\n",
      "155    4.1   11.6     3.2   5.367532\n",
      "47   239.9   41.5    23.2  21.777403\n",
      "105  137.9   46.4    19.2  18.082921\n",
      "142  220.5   33.2    20.1  19.312628\n",
      "112  175.7   15.4    14.1  13.881696\n",
      "177  170.2    7.8    11.7  12.181446\n",
      "158   11.7   36.9     7.3  10.541490\n",
      "113  209.6   20.6    15.9  16.412926\n",
      "1     44.5   39.3    10.4  12.488357\n",
      "150  280.7   13.9    16.1  18.361304\n",
      "151  121.0    8.4    11.6  10.062798\n",
      "108   13.1    0.4     5.3   3.638301\n",
      "76    27.5    1.6     6.9   4.520955\n",
      "125   87.2   11.8    10.6   9.177584\n",
      "160  172.5   18.1    14.4  14.251797\n",
      "86    76.3   27.5    12.0  11.679487\n",
      "109  255.4   26.9    19.8  19.694249\n",
      "2     17.2   45.9     9.3  12.508958\n",
      "75    16.9   43.7     8.7  12.075428\n",
      "20   218.4   27.7    18.0  18.167528\n",
      "148   38.0   40.3    10.9  12.384193\n",
      "52   216.4   41.7    22.6  20.748921\n",
      "41   177.0   33.4    17.1  17.376353\n",
      "22    13.2   15.9     5.6   6.601316\n",
      "49    66.9   11.7     9.7   8.237088\n",
      "180  156.6    2.6    10.5  10.571626\n",
      "54   262.7   28.8    20.2  20.388245\n",
      "164  117.2   14.7    11.9  11.092794\n",
      "67   139.3   14.5    13.4  12.057731\n",
      "23   228.3   16.9    15.5  16.555495\n",
      "116  139.2   14.3    12.2  12.015019\n",
      "169  284.3   10.6    15.0  17.894837\n",
      "69   216.8   43.9    22.3  21.186990\n",
      "122  224.0    2.4    11.6  13.592713\n",
      "17   281.4   39.6    24.4  23.298421\n",
      "39   228.0   37.7    21.5  20.511963\n",
      "97   184.9   21.0    15.5  15.368150\n",
      "34    95.7    1.4     9.5   7.578354\n",
      "0    230.1   37.8    22.1  20.626368\n",
      "6     57.5   32.8    11.8  11.837770\n"
     ]
    }
   ],
   "source": [
    "sales_set = x_test\n",
    "x_test['y_test'] = y_test\n",
    "x_test['y_pred'] = y_pred\n",
    "print(x_test)"
   ]
  },
  {
   "cell_type": "code",
   "execution_count": 22,
   "metadata": {
    "colab": {
     "base_uri": "https://localhost:8080/"
    },
    "id": "YcKKmqEqhQog",
    "outputId": "7a59b538-f8e4-4cf0-9f7a-4c12d3ae50e9"
   },
   "outputs": [
    {
     "name": "stdout",
     "output_type": "stream",
     "text": [
      "21     2.216281\n",
      "95    -0.489050\n",
      "102    2.813305\n",
      "12     1.547140\n",
      "33     1.440224\n",
      "96     0.904383\n",
      "81     2.334347\n",
      "140   -1.356272\n",
      "11    -0.106631\n",
      "77    -0.323421\n",
      "132    2.840271\n",
      "94    -0.985633\n",
      "107   -1.572168\n",
      "123   -0.041105\n",
      "136    2.073232\n",
      "73    -1.071277\n",
      "63    -0.721400\n",
      "85     0.048623\n",
      "40    -0.184862\n",
      "31    -0.487033\n",
      "155    2.167532\n",
      "47    -1.422597\n",
      "105   -1.117079\n",
      "142   -0.787372\n",
      "112   -0.218304\n",
      "177    0.481446\n",
      "158    3.241490\n",
      "113    0.512926\n",
      "1      2.088357\n",
      "150    2.261304\n",
      "151   -1.537202\n",
      "108   -1.661699\n",
      "76    -2.379045\n",
      "125   -1.422416\n",
      "160   -0.148203\n",
      "86    -0.320513\n",
      "109   -0.105751\n",
      "2      3.208958\n",
      "75     3.375428\n",
      "20     0.167528\n",
      "148    1.484193\n",
      "52    -1.851079\n",
      "41     0.276353\n",
      "22     1.001316\n",
      "49    -1.462912\n",
      "180    0.071626\n",
      "54     0.188245\n",
      "164   -0.807206\n",
      "67    -1.342269\n",
      "23     1.055495\n",
      "116   -0.184981\n",
      "169    2.894837\n",
      "69    -1.113010\n",
      "122    1.992713\n",
      "17    -1.101579\n",
      "39    -0.988037\n",
      "97    -0.131850\n",
      "34    -1.921646\n",
      "0     -1.473632\n",
      "6      0.037770\n",
      "Name: Sales, dtype: float64\n"
     ]
    }
   ],
   "source": [
    "res = y_pred -y_test\n",
    "print(res)\n"
   ]
  },
  {
   "cell_type": "markdown",
   "metadata": {
    "id": "lwXbw_jK93LX"
   },
   "source": [
    "Checking RMSE"
   ]
  },
  {
   "cell_type": "code",
   "execution_count": 23,
   "metadata": {
    "id": "lzaF3BIO3eWf"
   },
   "outputs": [],
   "source": [
    "import numpy as np\n",
    "from sklearn.metrics import mean_squared_error\n",
    "from sklearn.metrics import r2_score\n"
   ]
  },
  {
   "cell_type": "markdown",
   "metadata": {
    "id": "-K1FD8h0-uHr"
   },
   "source": [
    "Root Mean Square Error"
   ]
  },
  {
   "cell_type": "code",
   "execution_count": 24,
   "metadata": {
    "colab": {
     "base_uri": "https://localhost:8080/"
    },
    "id": "52vJqWyH-yCm",
    "outputId": "d6d4b6d0-1bed-4f64-e2a5-d655ae273eb9"
   },
   "outputs": [
    {
     "data": {
      "text/plain": [
       "5.556861259753335"
      ]
     },
     "execution_count": 24,
     "metadata": {},
     "output_type": "execute_result"
    }
   ],
   "source": [
    "np.square(mean_squared_error(y_test,y_pred))"
   ]
  },
  {
   "cell_type": "markdown",
   "metadata": {
    "id": "RlohYlyeBPxQ"
   },
   "source": [
    "Checking R-Squared on the model"
   ]
  },
  {
   "cell_type": "code",
   "execution_count": 25,
   "metadata": {
    "colab": {
     "base_uri": "https://localhost:8080/"
    },
    "id": "vIr4mA3KBZOG",
    "outputId": "190d812e-6fac-4910-bebe-5b76bcc352fd"
   },
   "outputs": [
    {
     "data": {
      "text/plain": [
       "0.8970478043582674"
      ]
     },
     "execution_count": 25,
     "metadata": {},
     "output_type": "execute_result"
    }
   ],
   "source": [
    "r_squared = r2_score(y_test, y_pred)\n",
    "r_squared"
   ]
  },
  {
   "cell_type": "code",
   "execution_count": 26,
   "metadata": {
    "colab": {
     "base_uri": "https://localhost:8080/",
     "height": 265
    },
    "id": "aRWn3F1IEPQE",
    "outputId": "88836d96-44c6-4eb4-8893-fa608856e5e8"
   },
   "outputs": [
    {
     "data": {
      "image/png": "[encoded data removed]",
      "text/plain": [
       "<Figure size 640x480 with 1 Axes>"
      ]
     },
     "metadata": {},
     "output_type": "display_data"
    }
   ],
   "source": [
    "fig = plt.scatter(y_test,y_pred)"
   ]
  },
  {
   "cell_type": "code",
   "execution_count": 27,
   "metadata": {
    "colab": {
     "base_uri": "https://localhost:8080/"
    },
    "id": "5lhi6GQIGmoN",
    "outputId": "d0f84731-c048-4c0d-bf3c-96575d02eb7c"
   },
   "outputs": [
    {
     "name": "stdout",
     "output_type": "stream",
     "text": [
      "[20.62636804]\n"
     ]
    },
    {
     "name": "stderr",
     "output_type": "stream",
     "text": [
      "C:\\Users\\Premnath Bhalke\\anaconda3\\lib\\site-packages\\sklearn\\base.py:450: UserWarning: X does not have valid feature names, but LinearRegression was fitted with feature names\n",
      "  warnings.warn(\n"
     ]
    }
   ],
   "source": [
    "new_x = [[230.1,37.8]]\n",
    "print(model.predict(new_x))\n"
   ]
  },
  {
   "cell_type": "code",
   "execution_count": null,
   "metadata": {},
   "outputs": [],
   "source": []
  }
 ],
 "metadata": {
  "colab": {
   "provenance": []
  },
  "kernelspec": {
   "display_name": "Python 3 (ipykernel)",
   "language": "python",
   "name": "python3"
  },
  "language_info": {
   "codemirror_mode": {
    "name": "ipython",
    "version": 3
   },
   "file_extension": ".py",
   "mimetype": "text/x-python",
   "name": "python",
   "nbconvert_exporter": "python",
   "pygments_lexer": "ipython3",
   "version": "3.9.13"
  }
 },
 "nbformat": 4,
 "nbformat_minor": 1
}
